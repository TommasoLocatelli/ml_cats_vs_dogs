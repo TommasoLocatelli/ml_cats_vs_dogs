{
 "cells": [
  {
   "cell_type": "markdown",
   "metadata": {},
   "source": [
    "# Hopfield 🫠\n",
    "\n",
    "https://towardsdatascience.com/hopfield-networks-neural-memory-machines-4c94be821073\n",
    "\n",
    "To use an Hopfield Network for a Binary image classification task we stored in the network some labeled patterns and then predict the label of a new image with the label of the pattern to which it converges."
   ]
  },
  {
   "cell_type": "code",
   "execution_count": null,
   "metadata": {},
   "outputs": [],
   "source": [
    "from matplotlib import pyplot as plt\n",
    "import numpy as np\n",
    "import pathlib\n",
    "\n",
    "from tqdm import tqdm\n",
    "import random\n",
    "import pygame\n",
    "\n",
    "import tensorflow as tf\n",
    "from keras import utils, layers"
   ]
  },
  {
   "cell_type": "markdown",
   "metadata": {},
   "source": [
    "## Hopfield Class"
   ]
  },
  {
   "cell_type": "markdown",
   "metadata": {},
   "source": [
    "Definition of the Hopfield network class"
   ]
  },
  {
   "cell_type": "code",
   "execution_count": null,
   "metadata": {},
   "outputs": [],
   "source": [
    "class Hopfield_Net:  # network class\n",
    "    # init ialize network variables and memory\n",
    "    def __init__(self, input, state):\n",
    "\n",
    "        # patterns for network training / retrieval\n",
    "        self.memory = np.array(input)\n",
    "        # single vs. multiple memories\n",
    "        if self.memory.size > 1:\n",
    "            self.n = self.memory.shape[1]\n",
    "        else:\n",
    "            self.n = len(self.memory)\n",
    "        # network construction\n",
    "        self.state = np.array(state)  # state vector\n",
    "        self.weights = np.zeros((self.n, self.n))  # weights vector\n",
    "        self.energies = []  # container for tracking of energy\n",
    "\n",
    "        self.pointer = 0\n",
    "        self.order = list(range(self.n))\n",
    "        random.shuffle(self.order)\n",
    "\n",
    "        self.is_over = False\n",
    "\n",
    "    def network_learning(self):  # learn the pattern / patterns\n",
    "        self.weights = (\n",
    "            (1 / self.memory.shape[0]) * self.memory.T @ self.memory\n",
    "        )  # hebbian learning\n",
    "        np.fill_diagonal(self.weights, 0)\n",
    "\n",
    "    def update_network_state(self, n_update):  # update network\n",
    "        for _ in range(n_update):  # update n neurons randomly\n",
    "\n",
    "            self.rand_index = self.order[self.pointer]\n",
    "\n",
    "            # Compute activation for randomly indexed neuron\n",
    "            self.index_activation = np.dot(self.weights[self.rand_index, :], self.state)\n",
    "            # threshold function for binary state change\n",
    "            if self.index_activation < 0:\n",
    "                self.state[self.rand_index] = -1\n",
    "            else:\n",
    "                self.state[self.rand_index] = 1\n",
    "\n",
    "        self.pointer = (self.pointer + 1) % self.n\n",
    "\n",
    "    def compute_energy(self):  # compute energy\n",
    "        self.energy = -0.5 * np.dot(np.dot(self.state.T, self.weights), self.state)\n",
    "        self.energies.append(self.energy)\n"
   ]
  },
  {
   "cell_type": "markdown",
   "metadata": {},
   "source": [
    "## HyperParam"
   ]
  },
  {
   "cell_type": "code",
   "execution_count": null,
   "metadata": {},
   "outputs": [],
   "source": [
    "img_size = 64\n",
    "train_size, test_size = 8, 24\n"
   ]
  },
  {
   "cell_type": "markdown",
   "metadata": {},
   "source": [
    "## Dataset"
   ]
  },
  {
   "cell_type": "code",
   "execution_count": null,
   "metadata": {},
   "outputs": [],
   "source": [
    "data_directory = pathlib.Path(\"downloads\", \"CatsDogs\")\n",
    "seed = 42"
   ]
  },
  {
   "cell_type": "markdown",
   "metadata": {},
   "source": [
    "Downloading the dataset: as a big dataset is not needed for this network we focus just on a small sample."
   ]
  },
  {
   "cell_type": "code",
   "execution_count": null,
   "metadata": {},
   "outputs": [],
   "source": [
    "ds = utils.image_dataset_from_directory(\n",
    "    data_directory,\n",
    "    color_mode=\"grayscale\",\n",
    "    seed=seed,\n",
    "    image_size=(img_size, img_size),\n",
    "    batch_size=1,\n",
    ").take(train_size + test_size)\n"
   ]
  },
  {
   "cell_type": "markdown",
   "metadata": {},
   "source": [
    "Converting pixels to bits"
   ]
  },
  {
   "cell_type": "code",
   "execution_count": null,
   "metadata": {},
   "outputs": [],
   "source": [
    "normalization_layer = layers.Rescaling(scale=1.0 / 255, offset=-0.5001)\n",
    "normalized_ds = ds.map(lambda x, y: (normalization_layer(x), y))\n"
   ]
  },
  {
   "cell_type": "code",
   "execution_count": null,
   "metadata": {},
   "outputs": [],
   "source": [
    "images = []\n",
    "labels = np.array([])\n",
    "for batch in tqdm(normalized_ds):\n",
    "    # sobel=tf.image.sobel_edges(batch[0])\n",
    "    # sobel_x=np.asarray(sobel[0,:,:,:,1])\n",
    "    arr = np.squeeze(tf.math.sign(batch[0]))\n",
    "    images.append(arr)\n",
    "    labels = np.append(labels, (int(batch[1][0])))\n",
    "images = np.array(images)\n",
    "images = images.reshape((-1, img_size * img_size))\n"
   ]
  },
  {
   "cell_type": "code",
   "execution_count": null,
   "metadata": {},
   "outputs": [],
   "source": [
    "plt.imshow(images[3].reshape((img_size, img_size)))\n",
    "plt.show()\n"
   ]
  },
  {
   "cell_type": "markdown",
   "metadata": {},
   "source": [
    "## Testing step by step"
   ]
  },
  {
   "cell_type": "markdown",
   "metadata": {},
   "source": [
    "Setting in `memories_list` the images to be stored and in `test_image` the image to be tested"
   ]
  },
  {
   "cell_type": "code",
   "execution_count": null,
   "metadata": {},
   "outputs": [],
   "source": [
    "memories_list=images[:4]\n",
    "test_index=27\n",
    "test_image=images[test_index]\n",
    "memories_list[0].shape"
   ]
  },
  {
   "cell_type": "markdown",
   "metadata": {},
   "source": [
    "Initializing the network"
   ]
  },
  {
   "cell_type": "code",
   "execution_count": null,
   "metadata": {},
   "outputs": [],
   "source": [
    "H_Net = Hopfield_Net(memories_list, test_image)\n",
    "H_Net.network_learning()\n"
   ]
  },
  {
   "cell_type": "markdown",
   "metadata": {},
   "source": [
    "Plotting weights matrix"
   ]
  },
  {
   "cell_type": "code",
   "execution_count": null,
   "metadata": {},
   "outputs": [],
   "source": [
    "plt.figure(\"weights\", figsize=(10, 7))\n",
    "plt.imshow(H_Net.weights, cmap=\"RdPu\")  #\n",
    "plt.xlabel(\"Each row/column represents a neuron, each square a connection\")\n",
    "\n",
    "plt.title(f\" {img_size*img_size} Neurons - {img_size*img_size*img_size*img_size} unique connections\", fontsize=15)\n",
    "plt.setp(plt.gcf().get_axes(), xticks=[], yticks=[])\n"
   ]
  },
  {
   "cell_type": "markdown",
   "metadata": {},
   "source": [
    "Computing the stable state"
   ]
  },
  {
   "cell_type": "code",
   "execution_count": null,
   "metadata": {},
   "outputs": [],
   "source": [
    "while not H_Net.is_over:\n",
    "    old_state = np.array(H_Net.state)\n",
    "    for _ in range(img_size):\n",
    "        H_Net.update_network_state(img_size)\n",
    "    H_Net.compute_energy()\n",
    "    if np.all(H_Net.state == old_state):\n",
    "        H_Net.is_over = True\n"
   ]
  },
  {
   "cell_type": "code",
   "execution_count": null,
   "metadata": {},
   "outputs": [],
   "source": [
    "# plot energies\n",
    "plt.figure(\"Energy\", figsize=(6, 4))\n",
    "x = np.arange(len(H_Net.energies))\n",
    "plt.scatter(x, np.array(H_Net.energies), s=1, color=\"red\")\n",
    "plt.xlabel(\"Generation\")\n",
    "plt.ylabel(\"Energy\")\n",
    "plt.title(\"Network Energy over Successive Generations\", fontsize=15)\n",
    "plt.setp(plt.gcf().get_axes(), xticks=[], yticks=[])\n"
   ]
  },
  {
   "cell_type": "markdown",
   "metadata": {},
   "source": [
    "Tested image"
   ]
  },
  {
   "cell_type": "code",
   "execution_count": null,
   "metadata": {},
   "outputs": [],
   "source": [
    "plt.imshow(test_image.reshape((img_size, img_size)))\n",
    "plt.show()\n"
   ]
  },
  {
   "cell_type": "markdown",
   "metadata": {},
   "source": [
    "Stable state reached"
   ]
  },
  {
   "cell_type": "code",
   "execution_count": null,
   "metadata": {},
   "outputs": [],
   "source": [
    "plt.imshow(H_Net.state.reshape((img_size, img_size)))\n",
    "plt.show()\n"
   ]
  },
  {
   "cell_type": "markdown",
   "metadata": {},
   "source": [
    "> *Binary Hopfield networks (BHNs) are prone to ‘spurious’ minima. If memories learned by a BHN are too similar, or if too many pattern vectors are learned, the network risks converging to an in-between memory, some combination of learned patterns; in other words, the network will fail to discriminate between patterns and becomes useless.*"
   ]
  },
  {
   "cell_type": "markdown",
   "metadata": {},
   "source": [
    "Checking if it is a spurius state or if the network predicted well"
   ]
  },
  {
   "cell_type": "code",
   "execution_count": null,
   "metadata": {},
   "outputs": [],
   "source": [
    "spurius_state = True\n",
    "for i, image in enumerate(memories_list):\n",
    "    if np.all(H_Net.state == image):\n",
    "        if labels[i] != labels[test_index]:\n",
    "            print(\"error!\")\n",
    "        else:\n",
    "            print(\"Predicted well!\")\n",
    "        spurius_state = False\n",
    "\n",
    "if spurius_state == True:\n",
    "    print(\"spurius state!\")\n"
   ]
  },
  {
   "cell_type": "markdown",
   "metadata": {},
   "source": [
    "## Exploratory experiments"
   ]
  },
  {
   "cell_type": "markdown",
   "metadata": {},
   "source": [
    "As any pattern stored define a stable state, this network should have always zero training error."
   ]
  },
  {
   "cell_type": "code",
   "execution_count": null,
   "metadata": {},
   "outputs": [],
   "source": [
    "while True:\n",
    "    training_and_test_indexis = list(range(train_size+test_size))\n",
    "    random.shuffle(training_and_test_indexis)\n",
    "    train_indexis = training_and_test_indexis[:train_size]\n",
    "    test_indexis = training_and_test_indexis[train_size:]\n",
    "    # check if there are both cats and dogs in train and test\n",
    "    if all(v in labels[train_indexis] for v in [0, 1]) and all(\n",
    "        v in labels[test_indexis] for v in [0, 1]\n",
    "    ):\n",
    "        break\n",
    "print(train_indexis, test_indexis)\n"
   ]
  },
  {
   "cell_type": "code",
   "execution_count": null,
   "metadata": {},
   "outputs": [],
   "source": [
    "memories_list=images[train_indexis] \n",
    "memories_labels=labels[train_indexis]\n",
    "test_labels=labels[test_indexis]\n",
    "print(memories_labels,test_labels)"
   ]
  },
  {
   "cell_type": "markdown",
   "metadata": {},
   "source": [
    "### Train"
   ]
  },
  {
   "cell_type": "code",
   "execution_count": null,
   "metadata": {},
   "outputs": [],
   "source": [
    "n_errors = 0\n",
    "n_spurius_states = 0\n",
    "\n",
    "for index in tqdm(train_indexis):\n",
    "\n",
    "    # initialize\n",
    "    H_Net = Hopfield_Net(memories_list, images[index])\n",
    "    H_Net.network_learning()\n",
    "\n",
    "    # convergence\n",
    "    while not H_Net.is_over:\n",
    "        old_state = np.array(H_Net.state)\n",
    "        for _ in range(img_size):\n",
    "            H_Net.update_network_state(img_size)\n",
    "        if np.all(H_Net.state == old_state):\n",
    "            H_Net.is_over = True\n",
    "\n",
    "    # label check\n",
    "    spurius_state = True\n",
    "    for i, image in enumerate(memories_list):\n",
    "        if np.all(H_Net.state == image):  # find the image to which had converged\n",
    "            if memories_labels[i] != labels[index]:\n",
    "                n_errors += 1\n",
    "            spurius_state = False\n",
    "    if spurius_state:\n",
    "        n_spurius_states += 1\n",
    "\n",
    "print(\"PERFORMANCE ON THE TRAINING SET:\")\n",
    "print(f\"Number of errors: {n_errors}\")\n",
    "print(f\"Number of spurius states reached: {n_spurius_states}\")\n"
   ]
  },
  {
   "cell_type": "markdown",
   "metadata": {},
   "source": [
    "### Test"
   ]
  },
  {
   "cell_type": "code",
   "execution_count": null,
   "metadata": {},
   "outputs": [],
   "source": [
    "n_errors = 0\n",
    "n_spurius_states = 0\n",
    "\n",
    "for index in tqdm(test_indexis):\n",
    "\n",
    "    # initialize\n",
    "    H_Net = Hopfield_Net(memories_list, images[index])\n",
    "    H_Net.network_learning()\n",
    "\n",
    "    # convergence\n",
    "    while not H_Net.is_over:\n",
    "        old_state = np.array(H_Net.state)\n",
    "        for _ in range(img_size):\n",
    "            H_Net.update_network_state(img_size)\n",
    "        if np.all(H_Net.state == old_state):\n",
    "            H_Net.is_over = True\n",
    "\n",
    "    # label check\n",
    "    spurius_state = True\n",
    "    for i, image in enumerate(memories_list):\n",
    "        if np.all(H_Net.state == image):  # find the image to which had converged\n",
    "            if memories_labels[i] != labels[index]:\n",
    "                n_errors += 1\n",
    "            spurius_state = False\n",
    "    if spurius_state:\n",
    "        n_spurius_states += 1\n",
    "\n",
    "print(\"PERFORMANCE ON THE TEST SET:\")\n",
    "print(f\"Number of errors: {n_errors}\")\n",
    "print(f\"Number of spurius states reached: {n_spurius_states}\")\n"
   ]
  },
  {
   "cell_type": "markdown",
   "metadata": {},
   "source": [
    "In practice, even with a small number of patterns stored there is the risk that a some of the learned pattern converge instead to a spurius pattern."
   ]
  },
  {
   "cell_type": "markdown",
   "metadata": {},
   "source": [
    "It seems necessary to choose the patterns stored trying to minimizing the risk of spurius states. To do so the patterns stored need to be as dissimilar as possible.\n",
    "\n",
    "So, we define an enreached algorithm using an Hopfield Network for binary image classification:\n",
    "\n",
    "It take as inputs a training set of labeled images.\n",
    "It has one parameters: **p** that is the number of patterns to be stored (we assume it to be even).\n",
    "\n",
    "First it choose **p** images from the training set, ensuring that the proportion of labels is fair and maximizing the dissimilarity between the two less dissimilar examples.\n",
    "\n",
    "Then it stored these patterns with an Hopfield Network."
   ]
  },
  {
   "cell_type": "markdown",
   "metadata": {},
   "source": [
    "### Hyperparameter tuning"
   ]
  },
  {
   "cell_type": "code",
   "execution_count": null,
   "metadata": {},
   "outputs": [],
   "source": [
    "# for i in range(len(images)):\n",
    "#     print(i)\n",
    "#     plt.imshow(images[i].reshape((img_size, img_size)))\n",
    "#     plt.show()\n"
   ]
  },
  {
   "cell_type": "markdown",
   "metadata": {},
   "source": [
    "### Risk estimation"
   ]
  },
  {
   "cell_type": "code",
   "execution_count": null,
   "metadata": {},
   "outputs": [],
   "source": []
  },
  {
   "cell_type": "markdown",
   "metadata": {},
   "source": [
    "### Animation"
   ]
  },
  {
   "cell_type": "code",
   "execution_count": null,
   "metadata": {},
   "outputs": [],
   "source": [
    "#parameters for pygame\n",
    "\n",
    "# Draw it all out, updating board each update iteration\n",
    "cellsize = 5\n",
    "\n",
    "pygame.init()  # initialize pygame\n",
    "# set dimensions of board and cellsize -  28 X 28  ~ special display surface\n",
    "surface = pygame.display.set_mode((img_size * cellsize, img_size * cellsize))\n",
    "pygame.display.set_caption(\"   \")"
   ]
  },
  {
   "cell_type": "code",
   "execution_count": null,
   "metadata": {},
   "outputs": [],
   "source": [
    "# kill pygame if user exits window\n",
    "Running = True\n",
    "# main animation loop\n",
    "try:\n",
    "    while Running:\n",
    "        for event in pygame.event.get():\n",
    "            pygame.time.wait(1)\n",
    "            if event.type == pygame.QUIT:\n",
    "                Running = False\n",
    "\n",
    "                # plot weights matrix\n",
    "                plt.figure(\"weights\", figsize=(10, 7))\n",
    "                plt.imshow(H_Net.weights, cmap=\"RdPu\")  #\n",
    "                plt.xlabel(\"Each row/column represents a neuron, each square a connection\")\n",
    "\n",
    "                plt.title(\" 4096 Neurons - 16,777,216 unique connections\", fontsize=15)\n",
    "                plt.setp(plt.gcf().get_axes(), xticks=[], yticks=[])\n",
    "\n",
    "                # plot energies\n",
    "                plt.figure(\"Energy\", figsize=(10, 7))\n",
    "                x = np.arange(len(H_Net.energies))\n",
    "                plt.scatter(x, np.array(H_Net.energies), s=1, color=\"red\")\n",
    "                plt.xlabel(\"Generation\")\n",
    "                plt.ylabel(\"Energy\")\n",
    "                plt.title(\"Network Energy over Successive Generations\", fontsize=15)\n",
    "                plt.setp(plt.gcf().get_axes(), xticks=[], yticks=[])\n",
    "\n",
    "                # quit pygame\n",
    "                pygame.quit()\n",
    "\n",
    "        cells = H_Net.state.reshape(img_size, img_size).T\n",
    "\n",
    "        # fills surface with color\n",
    "        surface.fill((211, 211, 211))\n",
    "\n",
    "        # loop through network state array and update colors for each cell\n",
    "        for r, c in np.ndindex(cells.shape):  # iterates through all cells in cells matrix\n",
    "            if cells[r, c] == -1:\n",
    "                col = (135, 206, 250)\n",
    "\n",
    "            elif cells[r, c] == 1:\n",
    "                col = (0, 0, 128)\n",
    "\n",
    "            else:\n",
    "                col = (255, 140, 0)\n",
    "            pygame.draw.rect(\n",
    "                surface, col, (r * cellsize, c * cellsize, cellsize, cellsize)\n",
    "            )  # draw new cell_\n",
    "\n",
    "        # update network state\n",
    "        H_Net.update_network_state(100)\n",
    "        H_Net.compute_energy()\n",
    "        pygame.display.update()  # updates display from new .draw in update function\n",
    "except Exception as inst:\n",
    "    print(inst.args)\n"
   ]
  },
  {
   "cell_type": "code",
   "execution_count": null,
   "metadata": {},
   "outputs": [],
   "source": [
    "from scipy.spatial import distance\n"
   ]
  },
  {
   "cell_type": "code",
   "execution_count": null,
   "metadata": {},
   "outputs": [],
   "source": [
    "similarities = { i : (2 * distance.hamming(e, H_Net.state) - 1) ** 2 for i, e in enumerate(images)}\n",
    "idx = max(similarities, key=similarities.get)\n",
    "idx, similarities[idx]"
   ]
  },
  {
   "cell_type": "code",
   "execution_count": null,
   "metadata": {},
   "outputs": [],
   "source": []
  }
 ],
 "metadata": {
  "kernelspec": {
   "display_name": "Python 3.10.2 ('venv': venv)",
   "language": "python",
   "name": "python3"
  },
  "language_info": {
   "codemirror_mode": {
    "name": "ipython",
    "version": 3
   },
   "file_extension": ".py",
   "mimetype": "text/x-python",
   "name": "python",
   "nbconvert_exporter": "python",
   "pygments_lexer": "ipython3",
   "version": "3.10.2"
  },
  "orig_nbformat": 4,
  "vscode": {
   "interpreter": {
    "hash": "0c89f70f669f0ea3789c57a403510e9f71ee3829d9d70c9b2bdd58feb836f7dd"
   }
  }
 },
 "nbformat": 4,
 "nbformat_minor": 2
}
