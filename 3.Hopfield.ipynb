{
 "cells": [
  {
   "cell_type": "markdown",
   "metadata": {},
   "source": [
    "# Hopfield 🫠\n",
    "\n",
    "https://towardsdatascience.com/hopfield-networks-neural-memory-machines-4c94be821073\n",
    "\n",
    "To use an Hopfield Network for a Binary image classification task we stored in the network some labeled patterns and then predict the label of a new image with the label of the pattern to which it converges."
   ]
  },
  {
   "cell_type": "code",
   "execution_count": 1,
   "metadata": {},
   "outputs": [],
   "source": [
    "from matplotlib import pyplot as plt\n",
    "import seaborn as sns\n"
   ]
  },
  {
   "cell_type": "code",
   "execution_count": 2,
   "metadata": {},
   "outputs": [
    {
     "name": "stdout",
     "output_type": "stream",
     "text": [
      "pygame 2.1.2 (SDL 2.0.18, Python 3.10.2)\n",
      "Hello from the pygame community. https://www.pygame.org/contribute.html\n"
     ]
    }
   ],
   "source": [
    "import numpy as np\n",
    "import pathlib\n",
    "\n",
    "from tqdm import tqdm\n",
    "import random\n",
    "import pygame\n",
    "from scipy.spatial import distance\n",
    "\n",
    "import tensorflow as tf\n",
    "from keras import utils, layers\n"
   ]
  },
  {
   "cell_type": "code",
   "execution_count": 3,
   "metadata": {},
   "outputs": [],
   "source": [
    "from scipy.spatial import distance\n",
    "\n",
    "def H2(a ,b):\n",
    "    return (2 * distance.hamming(a, b) - 1) ** 2"
   ]
  },
  {
   "cell_type": "markdown",
   "metadata": {},
   "source": [
    "## Hopfield Class"
   ]
  },
  {
   "cell_type": "markdown",
   "metadata": {},
   "source": [
    "Definition of the Hopfield network class"
   ]
  },
  {
   "cell_type": "code",
   "execution_count": 4,
   "metadata": {},
   "outputs": [],
   "source": [
    "class Hopfield_Net:\n",
    "    \"\"\"\n",
    "    n (int): number of neurons / pixel\n",
    "    state (ndarray): state to work on\n",
    "    energies (list): history of energy\n",
    "    pointer (int): track neuron execution\n",
    "    \"\"\"\n",
    "\n",
    "    def __init__(self, input):\n",
    "\n",
    "        # patterns for network training / retrieval\n",
    "        self.memory = np.array(input)\n",
    "        # single vs. multiple memories\n",
    "        if self.memory.size > 1:\n",
    "            self.n = self.memory.shape[1]\n",
    "        else:\n",
    "            self.n = len(self.memory)\n",
    "\n",
    "        # network construction\n",
    "        self.energies = []  # container for tracking of energy\n",
    "\n",
    "        self.is_stable = False\n",
    "\n",
    "        self.pointer = 0\n",
    "        self.order = list(range(self.n))\n",
    "        random.shuffle(self.order)\n",
    "\n",
    "        # learn the pattern / patterns\n",
    "        self.weights = (\n",
    "            (1 / self.memory.shape[0]) * self.memory.T @ self.memory\n",
    "        )  # hebbian learning\n",
    "        np.fill_diagonal(self.weights, 0)\n",
    "\n",
    "\n",
    "    def set_state(self, state):\n",
    "        self.state = np.array(state)  # state vector\n",
    "\n",
    "\n",
    "    def update_network_state(self, n_update = None):  # update network\n",
    "        if n_update is None:\n",
    "            n_update = self.n\n",
    "\n",
    "        for _ in range(n_update):\n",
    "\n",
    "            self.rand_index = self.order[self.pointer]\n",
    "\n",
    "            # Compute activation for randomly indexed neuron\n",
    "            self.index_activation = np.dot(self.weights[self.rand_index, :], self.state)\n",
    "\n",
    "            # threshold function for binary state change\n",
    "            self.state[self.rand_index] = -1 if self.index_activation < 0 else 1\n",
    "\n",
    "        self.pointer = (self.pointer + 1) % self.n\n",
    "\n",
    "    def compute_energy(self):  # compute energy\n",
    "        self.energy = -0.5 * np.dot(np.dot(self.state.T, self.weights), self.state)\n",
    "        self.energies.append(self.energy)\n",
    "\n",
    "    def let_converge(self, max_iter=200):\n",
    "        while max_iter and self.is_stable:\n",
    "            max_iter -= 1\n",
    "            prev_state = np.array(self.state)\n",
    "\n",
    "            self.update_network_state(self.n)\n",
    "            # self.compute_energy()\n",
    "            if np.all(self.state == prev_state):\n",
    "                self.is_stable = True\n",
    "                break\n",
    "\n",
    "    def check_memory(self):\n",
    "        counters = {i: 0 for i in [\"error\", \"spourious\", \"ok\"]}\n",
    "        for i in range(len(self.memory)):\n",
    "            self.set_state(self.memory[i])\n",
    "            self.let_converge()\n",
    "\n",
    "            ax = \"spourious\"\n",
    "    \n",
    "            for j, mem in enumerate(self.memory):\n",
    "                if np.all(self.state == mem):  # converge\n",
    "                    ax = (\n",
    "                        \"ok\" if i == j else \"error\"\n",
    "                    )  # NOTE ignore there could be duplicates inside self.memory\n",
    "                    break\n",
    "\n",
    "            counters[ax] += 1\n",
    "\n",
    "        return counters\n",
    "\n",
    "    def mx_reg(self):\n",
    "        X, Y = self.memory, self.state\n",
    "        a = np.linalg.inv(np.dot(X,X.T))\n",
    "        c = np.dot(X,Y)\n",
    "        beta = np.dot(a,c)\n",
    "        return beta\n",
    "\n",
    "    def lookup(self, spourious = True, ):\n",
    "        if spourious:\n",
    "            beta2 = self.mx_reg()**2\n",
    "            idx = np.argmax(beta2) # NOTE a threshold on beta shoudld take place and therefore return a None whenever\n",
    "            return idx\n",
    "        else:\n",
    "            for j, mem in enumerate(self.memory):\n",
    "                if np.all(self.state == mem):  # converge\n",
    "                    return j\n",
    "            return None\n",
    "\n",
    "    def test(self, x):\n",
    "        self.set_state(x)\n",
    "        self.let_converge()\n",
    "        return self.lookup()\n",
    "\n",
    "    "
   ]
  },
  {
   "cell_type": "markdown",
   "metadata": {},
   "source": [
    "## HyperParam"
   ]
  },
  {
   "cell_type": "code",
   "execution_count": 5,
   "metadata": {},
   "outputs": [],
   "source": [
    "img_size = 64\n",
    "train_size, test_size = 50, 50\n",
    "max_risk_size = 120\n"
   ]
  },
  {
   "cell_type": "markdown",
   "metadata": {},
   "source": [
    "## Dataset"
   ]
  },
  {
   "cell_type": "code",
   "execution_count": 6,
   "metadata": {},
   "outputs": [],
   "source": [
    "data_directory = pathlib.Path(\"downloads\", \"CatsDogs\")\n",
    "seed = 123\n"
   ]
  },
  {
   "cell_type": "markdown",
   "metadata": {},
   "source": [
    "Downloading the dataset: as a big dataset is not needed for this network we focus just on a small sample."
   ]
  },
  {
   "cell_type": "code",
   "execution_count": 7,
   "metadata": {},
   "outputs": [
    {
     "name": "stdout",
     "output_type": "stream",
     "text": [
      "Found 24770 files belonging to 2 classes.\n"
     ]
    }
   ],
   "source": [
    "ds_gen = utils.image_dataset_from_directory(\n",
    "    data_directory,\n",
    "    color_mode=\"grayscale\",\n",
    "    seed=seed,\n",
    "    image_size=(img_size, img_size),\n",
    "    batch_size=1,\n",
    ")"
   ]
  },
  {
   "cell_type": "code",
   "execution_count": 8,
   "metadata": {},
   "outputs": [],
   "source": [
    "ds = ds_gen.take(train_size + test_size + max_risk_size)\n"
   ]
  },
  {
   "cell_type": "markdown",
   "metadata": {},
   "source": [
    "Converting pixels to bits"
   ]
  },
  {
   "cell_type": "code",
   "execution_count": 9,
   "metadata": {},
   "outputs": [],
   "source": [
    "normalization_layer = layers.Rescaling(scale=1.0 / 255, offset=-0.5001)\n",
    "normalized_ds = ds.map(lambda x, y: (normalization_layer(x), y))\n"
   ]
  },
  {
   "cell_type": "code",
   "execution_count": 10,
   "metadata": {},
   "outputs": [],
   "source": [
    "images = []\n",
    "labels = np.array([])\n"
   ]
  },
  {
   "cell_type": "code",
   "execution_count": 11,
   "metadata": {},
   "outputs": [
    {
     "name": "stderr",
     "output_type": "stream",
     "text": [
      "100%|██████████| 220/220 [00:00<00:00, 556.50it/s]\n"
     ]
    }
   ],
   "source": [
    "for batch in tqdm(normalized_ds):\n",
    "    # sobel=tf.image.sobel_edges(batch[0])\n",
    "    # sobel_x=np.asarray(sobel[0,:,:,:,1])\n",
    "    arr = np.squeeze(tf.math.sign(batch[0]))\n",
    "    images.append(arr)\n",
    "    labels = np.append(labels, (int(batch[1][0])))\n",
    "images = np.array(images)\n",
    "images = images.reshape((-1, img_size * img_size))\n"
   ]
  },
  {
   "cell_type": "code",
   "execution_count": 12,
   "metadata": {},
   "outputs": [],
   "source": [
    "memories_indexes = np.array(range(train_size))\n",
    "test_indexes = np.array(range(train_size, train_size + test_size))\n"
   ]
  },
  {
   "cell_type": "code",
   "execution_count": 13,
   "metadata": {},
   "outputs": [
    {
     "data": {
      "image/png": "[encoded data removed]",
      "text/plain": [
       "<Figure size 640x480 with 1 Axes>"
      ]
     },
     "metadata": {},
     "output_type": "display_data"
    }
   ],
   "source": [
    "plt.imshow(images[9].reshape((img_size, img_size)))\n",
    "plt.show()\n"
   ]
  },
  {
   "cell_type": "markdown",
   "metadata": {},
   "source": [
    "## Testing step by step"
   ]
  },
  {
   "cell_type": "code",
   "execution_count": 14,
   "metadata": {},
   "outputs": [],
   "source": [
    "memories_list = images[memories_indexes]\n",
    "memories_labels = labels[memories_indexes]\n"
   ]
  },
  {
   "cell_type": "code",
   "execution_count": 15,
   "metadata": {},
   "outputs": [],
   "source": [
    "test_image = images[9]\n"
   ]
  },
  {
   "cell_type": "markdown",
   "metadata": {},
   "source": [
    "Initializing the network"
   ]
  },
  {
   "cell_type": "code",
   "execution_count": 16,
   "metadata": {},
   "outputs": [
    {
     "data": {
      "text/plain": [
       "9"
      ]
     },
     "execution_count": 16,
     "metadata": {},
     "output_type": "execute_result"
    }
   ],
   "source": [
    "H_Net = Hopfield_Net(memories_list)\n",
    "H_Net.test(test_image)\n"
   ]
  },
  {
   "cell_type": "markdown",
   "metadata": {},
   "source": [
    "Plotting weights matrix"
   ]
  },
  {
   "cell_type": "code",
   "execution_count": 17,
   "metadata": {},
   "outputs": [],
   "source": [
    "# plt.figure(\"weights\", figsize=(10, 7))\n",
    "# plt.imshow(H_Net.weights, cmap=\"RdPu\")  #\n",
    "# plt.xlabel(\"Each row/column represents a neuron, each square a connection\")\n",
    "\n",
    "# plt.title(\n",
    "#     f\" {img_size*img_size} Neurons - {img_size*img_size*img_size*img_size} unique connections\",\n",
    "#     fontsize=15,\n",
    "# )\n",
    "# plt.setp(plt.gcf().get_axes(), xticks=[], yticks=[])"
   ]
  },
  {
   "cell_type": "markdown",
   "metadata": {},
   "source": [
    "Computing the stable state"
   ]
  },
  {
   "cell_type": "code",
   "execution_count": 18,
   "metadata": {},
   "outputs": [],
   "source": [
    "# # plot energies\n",
    "# plt.figure(\"Energy\", figsize=(6, 4))\n",
    "# x = np.arange(len(H_Net.energies))\n",
    "# plt.scatter(x, np.array(H_Net.energies), s=1, color=\"red\")\n",
    "# plt.xlabel(\"Generation\")\n",
    "# plt.ylabel(\"Energy\")\n",
    "# plt.title(\"Network Energy over Successive Generations\", fontsize=15)\n",
    "# plt.setp(plt.gcf().get_axes(), xticks=[], yticks=[])\n"
   ]
  },
  {
   "cell_type": "markdown",
   "metadata": {},
   "source": [
    "Tested image"
   ]
  },
  {
   "cell_type": "code",
   "execution_count": 19,
   "metadata": {},
   "outputs": [
    {
     "data": {
      "image/png": "[encoded data removed]",
      "text/plain": [
       "<Figure size 640x480 with 1 Axes>"
      ]
     },
     "metadata": {},
     "output_type": "display_data"
    }
   ],
   "source": [
    "plt.imshow(test_image.reshape((img_size, img_size)))\n",
    "plt.show()\n"
   ]
  },
  {
   "cell_type": "markdown",
   "metadata": {},
   "source": [
    "Stable state reached"
   ]
  },
  {
   "cell_type": "code",
   "execution_count": 20,
   "metadata": {},
   "outputs": [
    {
     "data": {
      "image/png": "[encoded data removed]",
      "text/plain": [
       "<Figure size 640x480 with 1 Axes>"
      ]
     },
     "metadata": {},
     "output_type": "display_data"
    }
   ],
   "source": [
    "plt.imshow(H_Net.state.reshape((img_size, img_size)))\n",
    "plt.show()\n"
   ]
  },
  {
   "cell_type": "markdown",
   "metadata": {},
   "source": [
    "> *Binary Hopfield networks (BHNs) are prone to ‘spurious’ minima. If memories learned by a BHN are too similar, or if too many pattern vectors are learned, the network risks converging to an in-between memory, some combination of learned patterns; in other words, the network will fail to discriminate between patterns and becomes useless.*"
   ]
  },
  {
   "cell_type": "markdown",
   "metadata": {},
   "source": [
    "Checking if it is a spurius state or if the network predicted well"
   ]
  },
  {
   "cell_type": "code",
   "execution_count": 21,
   "metadata": {},
   "outputs": [
    {
     "data": {
      "text/plain": [
       "{'error': 0, 'spourious': 0, 'ok': 50}"
      ]
     },
     "execution_count": 21,
     "metadata": {},
     "output_type": "execute_result"
    }
   ],
   "source": [
    "H_Net.check_memory()"
   ]
  },
  {
   "cell_type": "markdown",
   "metadata": {},
   "source": [
    "## Exploratory experiments"
   ]
  },
  {
   "cell_type": "markdown",
   "metadata": {},
   "source": [
    "As any pattern stored define a stable state, this network should have always zero training error."
   ]
  },
  {
   "cell_type": "markdown",
   "metadata": {},
   "source": [
    "### Train"
   ]
  },
  {
   "cell_type": "code",
   "execution_count": 22,
   "metadata": {},
   "outputs": [
    {
     "name": "stdout",
     "output_type": "stream",
     "text": [
      "PERFORMANCE ON THE TRAINING SET: {'error': 0, 'spourious': 0, 'ok': 50}\n"
     ]
    }
   ],
   "source": [
    "H_Net = Hopfield_Net(memories_list)\n",
    "print(f\"PERFORMANCE ON THE TRAINING SET: {H_Net.check_memory()}\")"
   ]
  },
  {
   "cell_type": "markdown",
   "metadata": {},
   "source": [
    "### Test"
   ]
  },
  {
   "cell_type": "code",
   "execution_count": 23,
   "metadata": {},
   "outputs": [
    {
     "name": "stderr",
     "output_type": "stream",
     "text": [
      "100%|██████████| 50/50 [00:00<00:00, 473.64it/s]\n"
     ]
    }
   ],
   "source": [
    "not_guessed = 0\n",
    "spurius_states = []\n",
    "\n",
    "for index in tqdm(test_indexes):\n",
    "    result = H_Net.test(images[index])\n",
    "\n",
    "    if result is None:\n",
    "        spurius_states.append(index)\n",
    "    else:\n",
    "        if memories_labels[result] == labels[index]:\n",
    "            pass\n",
    "        else:\n",
    "            not_guessed += 1"
   ]
  },
  {
   "cell_type": "code",
   "execution_count": 24,
   "metadata": {},
   "outputs": [
    {
     "name": "stdout",
     "output_type": "stream",
     "text": [
      "PERFORMANCE ON THE TEST SET:\n",
      "Number of spurius states reached: 0\n",
      "Net 0:1 loss: 0.58\n"
     ]
    }
   ],
   "source": [
    "print(\"PERFORMANCE ON THE TEST SET:\")\n",
    "print(f\"Number of spurius states reached: {len(spurius_states)}\")\n",
    "\n",
    "try:\n",
    "    loss = not_guessed / (test_size-len(spurius_states))\n",
    "except ZeroDivisionError:\n",
    "    print(f\"Loss cannot be computed right now\")\n",
    "else:\n",
    "    print(f\"Net 0:1 loss: {loss}\")\n"
   ]
  },
  {
   "cell_type": "markdown",
   "metadata": {},
   "source": [
    "In practice, even with a small number of patterns stored there is the risk that a some of the learned pattern converge instead to a spurius pattern.\n",
    "\n",
    "It seems necessary to choose the patterns stored trying to minimizing the risk of spurius states. To do so the patterns stored need to be as dissimilar as possible.\n",
    "\n",
    "So, we define an enreached algorithm using an Hopfield Network for binary image classification:\n",
    "\n",
    "It take as inputs a training set of labeled images.\n",
    "It has one parameters: **p** that is the number of patterns to be stored >=2.\n",
    "\n",
    "First it choose **p** images from the training set, ensuring that there is at least one pattern for each label and maximizing the dissimilarity examples.\n",
    "\n",
    "Then it stored these patterns with an Hopfield Network."
   ]
  },
  {
   "cell_type": "code",
   "execution_count": 25,
   "metadata": {},
   "outputs": [],
   "source": [
    "def pattern_chooser(training_images, training_labels, p: int):\n",
    "    \"\"\"\n",
    "    this procedure ensure that at least one pattern per label is keeped as long as p>=2\n",
    "\n",
    "    Args:\n",
    "        p (int): number of pattern to choose\n",
    "\n",
    "    Returns:\n",
    "        this procedure delete one pattern at time\n",
    "        and if there is just one pattern with a label value it can't be deleted as:\n",
    "        its label count is 1 so:\n",
    "        or the other label has a higher count than one,\n",
    "        or it already reach the minimum number of patterns left that is 2 and will not delete any pattern\n",
    "    \"\"\"\n",
    "    \n",
    "    patterns = np.array(training_images)\n",
    "    patterns_labels = np.array(training_labels)\n",
    "\n",
    "    # build dinstance matrix\n",
    "    dists = np.array([[H2(a, b) for a in patterns] for b in patterns])\n",
    "    np.fill_diagonal(dists, 1)\n",
    "\n",
    "    while len(patterns_labels) > p:\n",
    "        # a, b = np.where(dists == dists.min())[0]\n",
    "        a, b = np.unravel_index(np.argmin(dists, axis=None), dists.shape)\n",
    "        label_a, label_b = patterns_labels[[a, b]]\n",
    "\n",
    "        # delete the pattern with the most represented label\n",
    "        idx = b if sum(patterns_labels == label_a) < sum(patterns_labels == label_b) else b\n",
    "\n",
    "        patterns = np.delete(patterns, idx, 0)\n",
    "        patterns_labels = np.delete(patterns_labels, idx, 0)\n",
    "        dists = np.delete(dists, idx, 0)\n",
    "        dists = np.delete(dists, idx, 1)\n",
    "\n",
    "        # print(patterns_labels, patterns.shape)\n",
    "\n",
    "    return patterns, patterns_labels\n"
   ]
  },
  {
   "cell_type": "markdown",
   "metadata": {},
   "source": [
    "### Hyperparameter tuning"
   ]
  },
  {
   "cell_type": "code",
   "execution_count": 26,
   "metadata": {},
   "outputs": [
    {
     "name": "stderr",
     "output_type": "stream",
     "text": [
      "100%|██████████| 50/50 [00:00<00:00, 4050.51it/s]\n",
      "100%|██████████| 50/50 [00:00<00:00, 3525.28it/s]\n",
      "100%|██████████| 50/50 [00:00<00:00, 2678.42it/s]\n",
      "100%|██████████| 50/50 [00:00<00:00, 2694.39it/s]\n",
      "100%|██████████| 50/50 [00:00<00:00, 2297.82it/s]\n",
      "100%|██████████| 50/50 [00:00<00:00, 2623.05it/s]\n",
      "100%|██████████| 50/50 [00:00<00:00, 1848.07it/s]\n",
      "100%|██████████| 50/50 [00:00<00:00, 2080.49it/s]\n",
      "100%|██████████| 50/50 [00:00<00:00, 1565.30it/s]\n",
      "100%|██████████| 50/50 [00:00<00:00, 1543.21it/s]\n",
      "100%|██████████| 50/50 [00:00<00:00, 1384.17it/s]\n",
      "100%|██████████| 50/50 [00:00<00:00, 1303.13it/s]\n",
      "100%|██████████| 50/50 [00:00<00:00, 1136.71it/s]\n",
      "100%|██████████| 50/50 [00:00<00:00, 1063.72it/s]\n",
      "100%|██████████| 50/50 [00:00<00:00, 802.92it/s]\n",
      "100%|██████████| 50/50 [00:00<00:00, 868.45it/s]\n",
      "100%|██████████| 50/50 [00:00<00:00, 783.53it/s]\n",
      "100%|██████████| 50/50 [00:00<00:00, 768.27it/s]\n",
      "100%|██████████| 50/50 [00:00<00:00, 670.42it/s]\n",
      "100%|██████████| 50/50 [00:00<00:00, 691.48it/s]\n",
      "100%|██████████| 50/50 [00:00<00:00, 577.27it/s]\n",
      "100%|██████████| 50/50 [00:00<00:00, 572.17it/s]\n",
      "100%|██████████| 50/50 [00:00<00:00, 534.19it/s]\n",
      "100%|██████████| 50/50 [00:00<00:00, 566.78it/s]\n",
      "100%|██████████| 24/24 [00:03<00:00,  6.80it/s]\n"
     ]
    }
   ],
   "source": [
    "stats = dict()\n",
    "\n",
    "for p in tqdm(range(2, train_size, 2)):\n",
    "    perf = {i+'_val':0 for i in [\"error\", \"spourious\", \"ok\"]}\n",
    "    # choose patterns\n",
    "    memories_list, memories_labels = pattern_chooser(images[memories_indexes], labels[memories_indexes], p)\n",
    "    H_Net = Hopfield_Net(memories_list)\n",
    "    \n",
    "    for index in tqdm(test_indexes):\n",
    "        result = H_Net.test(images[index])\n",
    "\n",
    "        if result is None:\n",
    "            perf['spourious_val'] += 1\n",
    "        else:\n",
    "            if memories_labels[result] == labels[index]:\n",
    "                perf['ok_val'] += 1\n",
    "            else:\n",
    "                perf['error_val'] += 1\n",
    "\n",
    "    stats[p] = (H_Net.check_memory(), perf)"
   ]
  },
  {
   "cell_type": "code",
   "execution_count": 27,
   "metadata": {},
   "outputs": [
    {
     "data": {
      "text/plain": [
       "[Text(0.5, 0, 'N of patterns'), Text(0, 0.5, 'Loss')]"
      ]
     },
     "execution_count": 27,
     "metadata": {},
     "output_type": "execute_result"
    },
    {
     "data": {
      "image/png": "[encoded data removed]",
      "text/plain": [
       "<Figure size 640x480 with 1 Axes>"
      ]
     },
     "metadata": {},
     "output_type": "display_data"
    }
   ],
   "source": [
    "ax = sns.lineplot(x=list(stats.keys()), y=[v[1]['error_val'] /(test_size) for v in stats.values()])\n",
    "ax.set(xlabel=\"N of patterns\", ylabel='Loss')"
   ]
  },
  {
   "cell_type": "code",
   "execution_count": 28,
   "metadata": {},
   "outputs": [],
   "source": [
    "N_PATTERN = 8"
   ]
  },
  {
   "cell_type": "markdown",
   "metadata": {},
   "source": [
    "### Risk estimation"
   ]
  },
  {
   "cell_type": "code",
   "execution_count": 29,
   "metadata": {},
   "outputs": [],
   "source": [
    "K = 5\n",
    "cherry_picking = True"
   ]
  },
  {
   "cell_type": "code",
   "execution_count": 30,
   "metadata": {},
   "outputs": [],
   "source": [
    "tt_size = train_size + test_size\n",
    "risk_size = max_risk_size if cherry_picking else N_PATTERN * K\n",
    "risk_indexes = np.arange(tt_size, tt_size + risk_size)\n",
    "fold_size = risk_size // K"
   ]
  },
  {
   "cell_type": "code",
   "execution_count": 31,
   "metadata": {},
   "outputs": [
    {
     "name": "stdout",
     "output_type": "stream",
     "text": [
      "Fold nº 1...\n"
     ]
    },
    {
     "name": "stderr",
     "output_type": "stream",
     "text": [
      "100%|██████████| 96/96 [00:00<00:00, 2393.11it/s]\n"
     ]
    },
    {
     "name": "stdout",
     "output_type": "stream",
     "text": [
      "Fold nº 2...\n"
     ]
    },
    {
     "name": "stderr",
     "output_type": "stream",
     "text": [
      "100%|██████████| 96/96 [00:00<00:00, 2441.08it/s]\n"
     ]
    },
    {
     "name": "stdout",
     "output_type": "stream",
     "text": [
      "Fold nº 3...\n"
     ]
    },
    {
     "name": "stderr",
     "output_type": "stream",
     "text": [
      "100%|██████████| 96/96 [00:00<00:00, 2795.76it/s]\n"
     ]
    },
    {
     "name": "stdout",
     "output_type": "stream",
     "text": [
      "Fold nº 4...\n"
     ]
    },
    {
     "name": "stderr",
     "output_type": "stream",
     "text": [
      "100%|██████████| 96/96 [00:00<00:00, 2597.06it/s]\n"
     ]
    },
    {
     "name": "stdout",
     "output_type": "stream",
     "text": [
      "Fold nº 5...\n"
     ]
    },
    {
     "name": "stderr",
     "output_type": "stream",
     "text": [
      "100%|██████████| 96/96 [00:00<00:00, 2659.04it/s]\n"
     ]
    }
   ],
   "source": [
    "loss = [0] * K\n",
    "\n",
    "for i in range(K):\n",
    "    mem_slice = np.arange(i * fold_size, (i + 1) * fold_size)\n",
    "    memories_indexes = risk_indexes[mem_slice]\n",
    "    if cherry_picking:\n",
    "        memories_list, memories_labels = pattern_chooser(images[memories_indexes], labels[memories_indexes], N_PATTERN)\n",
    "    else:\n",
    "        memories_list, memories_labels = images[memories_indexes], labels[memories_indexes]\n",
    "    \n",
    "    test_indexes = np.delete(risk_indexes, mem_slice, 0)\n",
    "\n",
    "    H_Net = Hopfield_Net(memories_list)\n",
    "    print(f\"Fold nº {i+1}...\")\n",
    "\n",
    "    for index in tqdm(test_indexes):\n",
    "        result = H_Net.test(images[index])\n",
    "        if memories_labels[result] != labels[index]:\n",
    "            loss[i] += 1\n"
   ]
  },
  {
   "cell_type": "code",
   "execution_count": 32,
   "metadata": {},
   "outputs": [
    {
     "name": "stdout",
     "output_type": "stream",
     "text": [
      "Risk estimation (average zero one loss):  0.38166666666666665\n"
     ]
    }
   ],
   "source": [
    "avg_loss = sum(loss) / K / risk_size\n",
    "print(\"Risk estimation (average zero one loss): \", avg_loss)\n"
   ]
  },
  {
   "cell_type": "markdown",
   "metadata": {},
   "source": [
    "### Animation"
   ]
  },
  {
   "cell_type": "code",
   "execution_count": null,
   "metadata": {},
   "outputs": [],
   "source": [
    "H_Net.set_state(images[9])"
   ]
  },
  {
   "cell_type": "code",
   "execution_count": null,
   "metadata": {},
   "outputs": [],
   "source": [
    "cellsize = 5\n",
    "\n",
    "pygame.init() \n",
    "surface = pygame.display.set_mode((img_size * cellsize, img_size * cellsize))\n",
    "pygame.display.set_caption(\"\")"
   ]
  },
  {
   "cell_type": "code",
   "execution_count": null,
   "metadata": {},
   "outputs": [],
   "source": [
    "# kill pygame if user exits window\n",
    "Running = True\n",
    "# main animation loop\n",
    "try:\n",
    "    while Running:\n",
    "        for event in pygame.event.get():\n",
    "            pygame.time.wait(1)\n",
    "            if event.type == pygame.QUIT:\n",
    "                Running = False\n",
    "\n",
    "                # # plot weights matrix\n",
    "                # plt.figure(\"weights\", figsize=(10, 7))\n",
    "                # plt.imshow(H_Net.weights, cmap=\"RdPu\")  #\n",
    "                # plt.xlabel(\"Each row/column represents a neuron, each square a connection\")\n",
    "\n",
    "                # plt.title(\" 4096 Neurons - 16,777,216 unique connections\", fontsize=15)\n",
    "                # plt.setp(plt.gcf().get_axes(), xticks=[], yticks=[])\n",
    "\n",
    "                # # plot energies\n",
    "                # plt.figure(\"Energy\", figsize=(10, 7))\n",
    "                # x = np.arange(len(H_Net.energies))\n",
    "                # plt.scatter(x, np.array(H_Net.energies), s=1, color=\"red\")\n",
    "                # plt.xlabel(\"Generation\")\n",
    "                # plt.ylabel(\"Energy\")\n",
    "                # plt.title(\"Network Energy over Successive Generations\", fontsize=15)\n",
    "                # plt.setp(plt.gcf().get_axes(), xticks=[], yticks=[])\n",
    "\n",
    "                # quit pygame\n",
    "                pygame.quit()\n",
    "\n",
    "        cells = H_Net.state.reshape(img_size, img_size).T\n",
    "\n",
    "        # fills surface with color\n",
    "        surface.fill((211, 211, 211))\n",
    "\n",
    "        # loop through network state array and update colors for each cell\n",
    "        for r, c in np.ndindex(cells.shape):  # iterates through all cells in cells matrix\n",
    "            if cells[r, c] == -1:\n",
    "                col = (135, 206, 250)\n",
    "\n",
    "            elif cells[r, c] == 1:\n",
    "                col = (0, 0, 128)\n",
    "\n",
    "            else:\n",
    "                col = (255, 140, 0)\n",
    "            pygame.draw.rect(\n",
    "                surface, col, (r * cellsize, c * cellsize, cellsize, cellsize)\n",
    "            )  # draw new cell_\n",
    "\n",
    "        # update network state\n",
    "        H_Net.update_network_state(img_size*img_size//20)\n",
    "        # H_Net.compute_energy()\n",
    "        pygame.display.update()  # updates display from new .draw in update function\n",
    "except Exception as inst:\n",
    "    print(inst.args)\n"
   ]
  },
  {
   "cell_type": "code",
   "execution_count": null,
   "metadata": {},
   "outputs": [],
   "source": [
    "H_Net.lookup()"
   ]
  },
  {
   "cell_type": "code",
   "execution_count": null,
   "metadata": {},
   "outputs": [],
   "source": []
  }
 ],
 "metadata": {
  "kernelspec": {
   "display_name": "Python 3.10.2 ('venv': venv)",
   "language": "python",
   "name": "python3"
  },
  "language_info": {
   "codemirror_mode": {
    "name": "ipython",
    "version": 3
   },
   "file_extension": ".py",
   "mimetype": "text/x-python",
   "name": "python",
   "nbconvert_exporter": "python",
   "pygments_lexer": "ipython3",
   "version": "3.10.2"
  },
  "orig_nbformat": 4,
  "vscode": {
   "interpreter": {
    "hash": "0c89f70f669f0ea3789c57a403510e9f71ee3829d9d70c9b2bdd58feb836f7dd"
   }
  }
 },
 "nbformat": 4,
 "nbformat_minor": 2
}
