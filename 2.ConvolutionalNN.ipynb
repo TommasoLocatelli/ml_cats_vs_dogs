{
 "cells": [
  {
   "cell_type": "markdown",
   "metadata": {},
   "source": [
    "# CNN 😎"
   ]
  },
  {
   "cell_type": "markdown",
   "metadata": {},
   "source": [
    "#### Libraries"
   ]
  },
  {
   "cell_type": "code",
   "execution_count": null,
   "metadata": {},
   "outputs": [],
   "source": [
    "import utilities as ff\n",
    "import matplotlib.pyplot as plt\n",
    "import numpy as np\n",
    "from pathlib import Path, PurePath\n",
    "import math\n"
   ]
  },
  {
   "cell_type": "code",
   "execution_count": null,
   "metadata": {},
   "outputs": [],
   "source": [
    "import tensorflow as tf\n",
    "from tensorflow import keras\n",
    "from tensorflow import config as tfconfig\n",
    "\n",
    "from keras.layers import *\n",
    "from keras.models import *\n",
    "from keras.losses import *\n",
    "from keras.optimizers import *\n",
    "from keras.utils import *\n"
   ]
  },
  {
   "cell_type": "code",
   "execution_count": null,
   "metadata": {},
   "outputs": [],
   "source": [
    "from tensorflow.python.client import device_lib\n",
    "try:\n",
    "    print(tfconfig.list_physical_devices())\n",
    "    print(device_lib.list_local_devices())\n",
    "except:\n",
    "    pass"
   ]
  },
  {
   "cell_type": "code",
   "execution_count": null,
   "metadata": {},
   "outputs": [],
   "source": [
    "no_classes = 2\n",
    "seed = 42"
   ]
  },
  {
   "cell_type": "code",
   "execution_count": null,
   "metadata": {},
   "outputs": [],
   "source": [
    "ff.delete_from_list()"
   ]
  },
  {
   "cell_type": "markdown",
   "metadata": {},
   "source": [
    "#### HyperParameter"
   ]
  },
  {
   "cell_type": "code",
   "execution_count": null,
   "metadata": {},
   "outputs": [],
   "source": [
    "hyper_point_batch_size = [8, 32, 128, 512, ]\n",
    "hyper_point_image_squared_size = [32, 64, 128, 256, ]\n",
    "hyper_point_color_mode = {1:\"grayscale\", 3:\"rgb\"}\n",
    "hyper_WIDTH = [8, 32, 128]\n",
    "hyper_NLAYER = [1,2,3]"
   ]
  },
  {
   "cell_type": "code",
   "execution_count": null,
   "metadata": {},
   "outputs": [],
   "source": [
    "# fixed hyper\n",
    "batch_size = hyper_point_batch_size[1]\n",
    "image_squared_size = hyper_point_image_squared_size[2]\n",
    "color_mode_size = 1\n",
    "color_mode = hyper_point_color_mode[color_mode_size]\n",
    "\n",
    "WIDTH, NLAYER, MIN_WIDTH = hyper_WIDTH[1], hyper_NLAYER[2], 8\n",
    "WHIDTH_MARGIN = math.log2(WIDTH/MIN_WIDTH)/(NLAYER-1)\n"
   ]
  },
  {
   "cell_type": "code",
   "execution_count": null,
   "metadata": {},
   "outputs": [],
   "source": [
    "TAG = f\"{image_squared_size}_img_{color_mode}_{batch_size}_batch_{WIDTH}_filters_{NLAYER}_layers\"\n",
    "model_directory = Path(TAG)\n",
    "model_directory.mkdir(parents=True, exist_ok=True)"
   ]
  },
  {
   "cell_type": "markdown",
   "metadata": {},
   "source": [
    "#### Dataset"
   ]
  },
  {
   "cell_type": "code",
   "execution_count": null,
   "metadata": {},
   "outputs": [],
   "source": [
    "train, test = ff.ready_to_be_used_dataset(\n",
    "    batch_size=batch_size,\n",
    "    image_squared_size=image_squared_size,\n",
    "    color_mode=color_mode,\n",
    ")\n"
   ]
  },
  {
   "cell_type": "code",
   "execution_count": null,
   "metadata": {},
   "outputs": [],
   "source": [
    "# image_batch, labels_batch = next(iter(train))\n",
    "# print(image_batch.shape, labels_batch.shape)\n"
   ]
  },
  {
   "cell_type": "markdown",
   "metadata": {},
   "source": [
    "#### RGB Model definition\n",
    "\n",
    "https://www.tensorflow.org/tutorials/images/cnn"
   ]
  },
  {
   "cell_type": "code",
   "execution_count": null,
   "metadata": {},
   "outputs": [],
   "source": [
    "model = Sequential()\n",
    "# model.delete-everything.forever(2022)"
   ]
  },
  {
   "cell_type": "code",
   "execution_count": null,
   "metadata": {},
   "outputs": [],
   "source": [
    "for i in range(NLAYER-1):\n",
    "    NFILTERS = WIDTH - int(i*2**WHIDTH_MARGIN)\n",
    "    model.add(Conv2D(NFILTERS, (3, 3), activation=\"relu\", input_shape=(image_squared_size, image_squared_size, color_mode_size)))\n",
    "    model.add(MaxPooling2D((2, 2)))\n",
    "\n",
    "model.add(Conv2D(8, (3, 3), activation=\"relu\", input_shape=(image_squared_size, image_squared_size, color_mode_size)))\n",
    "model.add(MaxPooling2D((2, 2)))\n",
    "model.add(Flatten())\n"
   ]
  },
  {
   "cell_type": "code",
   "execution_count": null,
   "metadata": {},
   "outputs": [],
   "source": [
    "for i in range(NLAYER):\n",
    "    NFILTERS = WIDTH - int(i*2**WHIDTH_MARGIN)\n",
    "    model.add(Dense(NFILTERS, activation=\"relu\"))\n",
    "\n",
    "model.add(Dense(2))"
   ]
  },
  {
   "cell_type": "code",
   "execution_count": null,
   "metadata": {},
   "outputs": [],
   "source": [
    "# Open the file\n",
    "with open(PurePath(TAG, 'model_summary.txt'), 'wt') as fh:\n",
    "    # Pass the file handle in as a lambda function to make it callable\n",
    "    model.summary(print_fn=lambda x: fh.write(x + '\\n'))"
   ]
  },
  {
   "cell_type": "code",
   "execution_count": null,
   "metadata": {},
   "outputs": [],
   "source": [
    "model.compile(\n",
    "    optimizer=\"adam\",\n",
    "    loss=SparseCategoricalCrossentropy(from_logits=True),\n",
    "    metrics=[\"accuracy\"],\n",
    ")"
   ]
  },
  {
   "cell_type": "code",
   "execution_count": null,
   "metadata": {},
   "outputs": [],
   "source": [
    "# plot_model(\n",
    "#     model,\n",
    "#     show_shapes=True,\n",
    "#     show_dtype=False,\n",
    "#     show_layer_names=True,\n",
    "#     rankdir=\"TB\",\n",
    "#     expand_nested=False,\n",
    "#     dpi=96,\n",
    "#     layer_range=None,\n",
    "#     show_layer_activations=True,\n",
    "# )\n"
   ]
  },
  {
   "cell_type": "markdown",
   "metadata": {},
   "source": [
    "#### Training"
   ]
  },
  {
   "cell_type": "code",
   "execution_count": null,
   "metadata": {},
   "outputs": [],
   "source": [
    "history = model.fit(train, epochs=25, validation_data=test)"
   ]
  },
  {
   "cell_type": "markdown",
   "metadata": {},
   "source": [
    "#### Performance evaluation"
   ]
  },
  {
   "cell_type": "code",
   "execution_count": null,
   "metadata": {},
   "outputs": [],
   "source": [
    "def performance_plot(history):\n",
    "    plt.figure(figsize=(16, 6))\n",
    "\n",
    "    # Plot loss\n",
    "    plt.subplot(1, 2, 1)\n",
    "    plt.plot(history.history[\"loss\"])\n",
    "    plt.plot(history.history[\"val_loss\"])\n",
    "    plt.ylabel(\"loss\", size=12)\n",
    "    plt.xlabel(\"epoch\", size=12)\n",
    "    plt.legend([\"train\", \"val\"], fontsize=10)\n",
    "\n",
    "    # Plot accuracy\n",
    "    plt.subplot(1, 2, 2)\n",
    "    plt.plot(history.history[\"accuracy\"])\n",
    "    plt.plot(history.history[\"val_accuracy\"])\n",
    "    plt.ylabel(\"accuracy\", size=12)\n",
    "    plt.xlabel(\"epoch\", size=12)\n",
    "    plt.legend([\"train\", \"val\"], fontsize=10)\n",
    "\n",
    "    plt.show()\n",
    "    plt.savefig(PurePath(TAG, 'loss_accuracy.png'))\n",
    "\n",
    "performance_plot(history)"
   ]
  },
  {
   "cell_type": "markdown",
   "metadata": {},
   "source": [
    "### Risk Estimation"
   ]
  },
  {
   "cell_type": "code",
   "execution_count": null,
   "metadata": {},
   "outputs": [],
   "source": [
    "accuracies = ff.five_fold_cross_validation(model, test, no_epochs=25)\n",
    "with open(PurePath(TAG, 'accuracies.txt'), 'wt') as f:\n",
    "    for e in accuracies:\n",
    "        f.writeline(e)"
   ]
  }
 ],
 "metadata": {
  "kernelspec": {
   "display_name": "Python 3.8 - Pytorch and Tensorflow",
   "language": "python",
   "name": "python38-azureml-pt-tf"
  },
  "language_info": {
   "codemirror_mode": {
    "name": "ipython",
    "version": 3
   },
   "file_extension": ".py",
   "mimetype": "text/x-python",
   "name": "python",
   "nbconvert_exporter": "python",
   "pygments_lexer": "ipython3",
   "version": "3.8.5"
  },
  "orig_nbformat": 4,
  "vscode": {
   "interpreter": {
    "hash": "0c89f70f669f0ea3789c57a403510e9f71ee3829d9d70c9b2bdd58feb836f7dd"
   }
  }
 },
 "nbformat": 4,
 "nbformat_minor": 2
}
