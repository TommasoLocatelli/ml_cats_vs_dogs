{
 "cells": [
  {
   "cell_type": "markdown",
   "metadata": {},
   "source": [
    "# CNN 😎"
   ]
  },
  {
   "cell_type": "code",
   "execution_count": 6,
   "metadata": {},
   "outputs": [],
   "source": [
    "from preprocessing_utility import *\n",
    "import matplotlib.pyplot as plt\n",
    "import numpy as np\n",
    "import tensorflow as tf\n",
    "from tensorflow.keras import activations, layers, optimizers, losses, models"
   ]
  },
  {
   "cell_type": "code",
   "execution_count": 3,
   "metadata": {},
   "outputs": [
    {
     "name": "stdout",
     "output_type": "stream",
     "text": [
      "Found 23404 files belonging to 2 classes.\n",
      "Using 18724 files for training.\n",
      "Found 23404 files belonging to 2 classes.\n",
      "Using 4680 files for validation.\n"
     ]
    }
   ],
   "source": [
    "train,test=ready_to_be_used_dataset(42,image_squared_size=128, color_mode='rgb')"
   ]
  },
  {
   "cell_type": "code",
   "execution_count": 4,
   "metadata": {},
   "outputs": [
    {
     "name": "stdout",
     "output_type": "stream",
     "text": [
      "(42, 128, 128, 3) (42,)\n"
     ]
    }
   ],
   "source": [
    "image_batch, labels_batch = next(iter(train))\n",
    "print(image_batch.shape,labels_batch.shape)"
   ]
  },
  {
   "cell_type": "markdown",
   "metadata": {},
   "source": [
    "#### Model1 definition\n",
    "\n",
    "https://www.tensorflow.org/tutorials/images/cnn"
   ]
  },
  {
   "cell_type": "code",
   "execution_count": 11,
   "metadata": {},
   "outputs": [
    {
     "name": "stdout",
     "output_type": "stream",
     "text": [
      "Model: \"sequential_1\"\n",
      "_________________________________________________________________\n",
      " Layer (type)                Output Shape              Param #   \n",
      "=================================================================\n",
      " conv2d_3 (Conv2D)           (None, 126, 126, 32)      896       \n",
      "                                                                 \n",
      " max_pooling2d_2 (MaxPooling  (None, 63, 63, 32)       0         \n",
      " 2D)                                                             \n",
      "                                                                 \n",
      " conv2d_4 (Conv2D)           (None, 61, 61, 64)        18496     \n",
      "                                                                 \n",
      " flatten_1 (Flatten)         (None, 238144)            0         \n",
      "                                                                 \n",
      " dense_2 (Dense)             (None, 64)                15241280  \n",
      "                                                                 \n",
      " dense_3 (Dense)             (None, 2)                 130       \n",
      "                                                                 \n",
      "=================================================================\n",
      "Total params: 15,260,802\n",
      "Trainable params: 15,260,802\n",
      "Non-trainable params: 0\n",
      "_________________________________________________________________\n"
     ]
    }
   ],
   "source": [
    "model = models.Sequential()\n",
    "model.add(layers.Conv2D(32, (3, 3), activation='relu', input_shape=(128, 128, 3)))\n",
    "model.add(layers.MaxPooling2D((2, 2)))\n",
    "model.add(layers.Conv2D(64, (3, 3), activation='relu'))\n",
    "model.add(layers.Flatten())\n",
    "model.add(layers.Dense(64, activation='relu'))\n",
    "model.add(layers.Dense(2))\n",
    "model.summary()"
   ]
  },
  {
   "cell_type": "code",
   "execution_count": 12,
   "metadata": {},
   "outputs": [],
   "source": [
    "model.compile(optimizer='adam',\n",
    "              loss=tf.keras.losses.SparseCategoricalCrossentropy(from_logits=True),\n",
    "              metrics=['accuracy'])"
   ]
  },
  {
   "cell_type": "markdown",
   "metadata": {},
   "source": [
    "#### Training"
   ]
  },
  {
   "cell_type": "code",
   "execution_count": 13,
   "metadata": {},
   "outputs": [
    {
     "name": "stdout",
     "output_type": "stream",
     "text": [
      "Epoch 1/5\n",
      "446/446 [==============================] - 390s 870ms/step - loss: 0.7495 - accuracy: 0.6198 - val_loss: 0.6247 - val_accuracy: 0.6577\n",
      "Epoch 2/5\n",
      "446/446 [==============================] - 369s 827ms/step - loss: 0.5340 - accuracy: 0.7331 - val_loss: 0.5541 - val_accuracy: 0.7182\n",
      "Epoch 3/5\n",
      "446/446 [==============================] - 386s 863ms/step - loss: 0.3748 - accuracy: 0.8334 - val_loss: 0.6260 - val_accuracy: 0.7141\n",
      "Epoch 4/5\n",
      "446/446 [==============================] - 351s 786ms/step - loss: 0.2023 - accuracy: 0.9199 - val_loss: 0.8696 - val_accuracy: 0.7130\n",
      "Epoch 5/5\n",
      "446/446 [==============================] - 1664s 4s/step - loss: 0.0973 - accuracy: 0.9651 - val_loss: 1.1887 - val_accuracy: 0.7038\n"
     ]
    }
   ],
   "source": [
    "history = model.fit(train, epochs=5, \n",
    "                    validation_data=test)"
   ]
  },
  {
   "cell_type": "markdown",
   "metadata": {},
   "source": [
    "#### Performance evaluation"
   ]
  },
  {
   "cell_type": "code",
   "execution_count": 14,
   "metadata": {},
   "outputs": [
    {
     "data": {
      "image/png": "[encoded data removed]",
      "text/plain": [
       "<Figure size 1152x432 with 2 Axes>"
      ]
     },
     "metadata": {
      "needs_background": "light"
     },
     "output_type": "display_data"
    }
   ],
   "source": [
    "def performance_plot(history):\n",
    "    plt.figure(figsize=(16, 6))\n",
    "\n",
    "    # Plot loss\n",
    "    plt.subplot(1, 2, 1)\n",
    "    plt.plot(history.history['loss'])\n",
    "    plt.plot(history.history['val_loss'])\n",
    "    plt.ylabel('loss', size=12)\n",
    "    plt.xlabel('epoch', size=12)\n",
    "    plt.legend(['train', 'val'], fontsize=10)\n",
    "\n",
    "    # Plot accuracy\n",
    "    plt.subplot(1, 2, 2)\n",
    "    plt.plot(history.history['accuracy'])\n",
    "    plt.plot(history.history['val_accuracy'])\n",
    "    plt.ylabel('accuracy', size=12)\n",
    "    plt.xlabel('epoch', size=12)\n",
    "    plt.legend(['train', 'val'], fontsize=10)\n",
    "\n",
    "    plt.show()\n",
    "\n",
    "performance_plot(history)"
   ]
  }
 ],
 "metadata": {
  "kernelspec": {
   "display_name": "Python 3.8.8 ('base')",
   "language": "python",
   "name": "python3"
  },
  "language_info": {
   "codemirror_mode": {
    "name": "ipython",
    "version": 3
   },
   "file_extension": ".py",
   "mimetype": "text/x-python",
   "name": "python",
   "nbconvert_exporter": "python",
   "pygments_lexer": "ipython3",
   "version": "3.8.8"
  },
  "orig_nbformat": 4,
  "vscode": {
   "interpreter": {
    "hash": "37e8ae1a9b02d388cbcf71a62676646e38c2499431bb856f85faf106f9089647"
   }
  }
 },
 "nbformat": 4,
 "nbformat_minor": 2
}
